{
 "cells": [
  {
   "cell_type": "code",
   "execution_count": 1,
   "metadata": {
    "collapsed": true
   },
   "outputs": [],
   "source": [
    "import numpy as np\n",
    "import pandas as pd\n",
    "from random import shuffle"
   ]
  },
  {
   "cell_type": "code",
   "execution_count": 2,
   "metadata": {
    "collapsed": false
   },
   "outputs": [],
   "source": [
    "prob=pd.read_csv('letters_prob.csv', index_col='letter') # preprocessed file\n",
    "decipher_form=pd.read_csv('cipher.csv', index_col='Unnamed: 0') # preprocessed file\n",
    "transition=pd.read_csv('letter_transition_matrix.csv', index_col='letter')\n",
    "alphabet=list('abcdefghijklmnopqrstuvwxyz .')\n",
    "trans_array=np.array(transition)\n",
    "alp_num=dict(zip(alphabet, list(range(len(alphabet))))) # We need it when convert text to numbers"
   ]
  },
  {
   "cell_type": "code",
   "execution_count": 3,
   "metadata": {
    "collapsed": false
   },
   "outputs": [],
   "source": [
    "# prepare text\n",
    "text=open('ciphertext.txt', 'r').read()\n",
    "text=text.replace('\\n', ' ')\n",
    "text=text.replace('  ', ' ')\n",
    "text=list(text)"
   ]
  },
  {
   "cell_type": "code",
   "execution_count": 4,
   "metadata": {
    "collapsed": false
   },
   "outputs": [],
   "source": [
    "def decipher(y,f):\n",
    "    dictionary=dict(zip(f, alphabet))\n",
    "    x=[]\n",
    "    for let in y:\n",
    "        x.append(dictionary[let])\n",
    "    \n",
    "    return x\n",
    "\n",
    "def tonum(y): # convert text to numbers\n",
    "    x=[]\n",
    "    for let in y:\n",
    "        x.append(alp_num[let])\n",
    "    \n",
    "    return x\n",
    "    \n",
    "\n",
    "def LogPyf(y,f):\n",
    "    y=decipher(y,f)\n",
    " \n",
    "    Ps=np.zeros(len(y))\n",
    "    \n",
    "    Ps[0]=np.log(prob.loc[y[0]]['Unnamed: 0'])\n",
    "    y=tonum(y)\n",
    "    Ps[1:]=np.log(trans_array[y[1:],y[:len(y)-1]])\n",
    "\n",
    "    P=Ps.sum()\n",
    "    return P"
   ]
  },
  {
   "cell_type": "code",
   "execution_count": 5,
   "metadata": {
    "collapsed": false
   },
   "outputs": [
    {
     "data": {
      "text/plain": [
       "-64363.198159222811"
      ]
     },
     "execution_count": 5,
     "metadata": {},
     "output_type": "execute_result"
    }
   ],
   "source": [
    "LogPyf(text, decipher_form.index)"
   ]
  },
  {
   "cell_type": "code",
   "execution_count": 110,
   "metadata": {
    "collapsed": false
   },
   "outputs": [
    {
     "name": "stderr",
     "output_type": "stream",
     "text": [
      "/home/daniel/anaconda3/envs/py35/lib/python3.5/site-packages/ipykernel_launcher.py:24: RuntimeWarning: divide by zero encountered in log\n"
     ]
    }
   ],
   "source": [
    "# Initialize f_n to avoid -infs\n",
    "while True:\n",
    "    alph=list(alphabet)\n",
    "    shuffle(alph)\n",
    "    f_n=np.array(alph)\n",
    "    if LogPyf(text,f_n)!= -np.inf:\n",
    "        break"
   ]
  },
  {
   "cell_type": "code",
   "execution_count": 111,
   "metadata": {
    "collapsed": false
   },
   "outputs": [
    {
     "name": "stderr",
     "output_type": "stream",
     "text": [
      "/home/daniel/anaconda3/envs/py35/lib/python3.5/site-packages/ipykernel_launcher.py:24: RuntimeWarning: divide by zero encountered in log\n"
     ]
    }
   ],
   "source": [
    "leave_or_not=np.array([True,False])\n",
    "normalization_factor=np.log(len(text))*10\n",
    "\n",
    "f=[]\n",
    "Prob=[]\n",
    "f.append(str(f_n))\n",
    "Prob.append(LogPyf(text,f_n))\n",
    "N=len(f_n)\n",
    "\n",
    "for i in range(5000):\n",
    "    re=np.random.choice(N, 2, replace=False)\n",
    "    f_new=np.array(f_n)\n",
    "    f_new[re]=f_new[np.flip(re,0)]\n",
    "    \n",
    "    crit=LogPyf(text, f_new)-LogPyf(text, f_n)\n",
    "    \n",
    "    if crit>=0:\n",
    "        f.append(str(f_new))\n",
    "        f_n=f_new\n",
    "        Prob.append(LogPyf(text,f_new))\n",
    "    \n",
    "    else:\n",
    "        alpha=np.exp(crit/normalization_factor)\n",
    "        accept=np.random.choice(leave_or_not,p=[alpha,1-alpha])\n",
    "        \n",
    "        if accept:\n",
    "            f.append(str(f_new))\n",
    "            f_n=f_new\n",
    "            Prob.append(LogPyf(text,f_new))\n",
    "    "
   ]
  },
  {
   "cell_type": "code",
   "execution_count": 112,
   "metadata": {
    "collapsed": false
   },
   "outputs": [
    {
     "data": {
      "text/plain": [
       "\"['g' 's' 'c' 'p' 'b' 'e' 'd' 'i' 'o' 'w' 'k' 'n' 'z' 'r' '.' 'u' 'm' 'a'\\n ' ' 'x' 'h' 'q' 'f' 'v' 'l' 't' 'y' 'j']\""
      ]
     },
     "execution_count": 112,
     "metadata": {},
     "output_type": "execute_result"
    }
   ],
   "source": [
    "max(set(f), key=f.count) # maximum repeating string in the list of strings 'f'"
   ]
  },
  {
   "cell_type": "code",
   "execution_count": 98,
   "metadata": {
    "collapsed": false
   },
   "outputs": [
    {
     "data": {
      "text/plain": [
       "array(['g', 's', 'c', 'p', 'b', 'e', 'd', 'i', 'o', 'w', 'k', 'n', 'z',\n",
       "       'r', '.', 'u', 'm', 'a', ' ', 'x', 'h', 't', 'f', 'v', 'l', 'q',\n",
       "       'y', 'j'], dtype=object)"
      ]
     },
     "execution_count": 98,
     "metadata": {},
     "output_type": "execute_result"
    }
   ],
   "source": [
    "np.array(decipher_form.index)"
   ]
  }
 ],
 "metadata": {
  "kernelspec": {
   "display_name": "Python 3",
   "language": "python",
   "name": "python3"
  },
  "language_info": {
   "codemirror_mode": {
    "name": "ipython",
    "version": 3
   },
   "file_extension": ".py",
   "mimetype": "text/x-python",
   "name": "python",
   "nbconvert_exporter": "python",
   "pygments_lexer": "ipython3",
   "version": "3.5.3"
  }
 },
 "nbformat": 4,
 "nbformat_minor": 2
}
