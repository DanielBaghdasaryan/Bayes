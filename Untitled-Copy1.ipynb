{
 "cells": [
  {
   "cell_type": "code",
   "execution_count": 1,
   "metadata": {
    "collapsed": true
   },
   "outputs": [],
   "source": [
    "import numpy as np\n",
    "import pandas as pd\n",
    "from random import shuffle"
   ]
  },
  {
   "cell_type": "code",
   "execution_count": 10,
   "metadata": {
    "collapsed": false
   },
   "outputs": [],
   "source": [
    "prob=pd.read_csv('letters_prob.csv', index_col='letter')\n",
    "cipher_form=pd.read_csv('cipher.csv', index_col='letter')\n",
    "decipher_form=pd.read_csv('cipher.csv', index_col='Unnamed: 0')\n",
    "transition=pd.read_csv('letter_transition_matrix.csv', index_col='letter')\n",
    "alphabet=list('abcdefghijklmnopqrstuvwxyz .')\n",
    "trans_array=np.array(transition)\n",
    "alp_num=dict(zip(alphabet, list(range(len(alphabet)))))"
   ]
  },
  {
   "cell_type": "code",
   "execution_count": 3,
   "metadata": {
    "collapsed": false
   },
   "outputs": [],
   "source": [
    "text=open('ciphertext.txt', 'r').read()\n",
    "text=text.replace('\\n', ' ')\n",
    "text=text.replace('  ', ' ')\n",
    "text=list(text)"
   ]
  },
  {
   "cell_type": "code",
   "execution_count": 23,
   "metadata": {
    "collapsed": false
   },
   "outputs": [],
   "source": [
    "def decipher(y,f):\n",
    "    dictionary=dict(zip(f, alphabet))\n",
    "    x=[]\n",
    "    for let in y:\n",
    "        x.append(dictionary[let])\n",
    "    \n",
    "    return x\n",
    "\n",
    "def tonum(y):\n",
    "    x=[]\n",
    "    for let in y:\n",
    "        x.append(alp_num[let])\n",
    "    \n",
    "    return x\n",
    "    \n",
    "\n",
    "def LogPyf(y,f):\n",
    "    y=decipher(y,f)\n",
    " \n",
    "    Ps=np.zeros(len(y))\n",
    "    \n",
    "    Ps[0]=np.log(prob.loc[y[0]]['Unnamed: 0'])\n",
    "    y=tonum(y)\n",
    "    Ps[1:]=np.log(trans_array[y[1:],y[:len(y)-1]])\n",
    "\n",
    "    P=Ps.sum()\n",
    "    return P"
   ]
  },
  {
   "cell_type": "code",
   "execution_count": 24,
   "metadata": {
    "collapsed": false
   },
   "outputs": [
    {
     "data": {
      "text/plain": [
       "-64363.198159222811"
      ]
     },
     "execution_count": 24,
     "metadata": {},
     "output_type": "execute_result"
    }
   ],
   "source": [
    "LogPyf(text, decipher_form.index)"
   ]
  }
 ],
 "metadata": {
  "kernelspec": {
   "display_name": "Python 3",
   "language": "python",
   "name": "python3"
  },
  "language_info": {
   "codemirror_mode": {
    "name": "ipython",
    "version": 3
   },
   "file_extension": ".py",
   "mimetype": "text/x-python",
   "name": "python",
   "nbconvert_exporter": "python",
   "pygments_lexer": "ipython3",
   "version": "3.5.3"
  }
 },
 "nbformat": 4,
 "nbformat_minor": 2
}
