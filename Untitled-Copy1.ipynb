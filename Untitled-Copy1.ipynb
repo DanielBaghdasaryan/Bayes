{
 "cells": [
  {
   "cell_type": "code",
   "execution_count": 72,
   "metadata": {
    "collapsed": true
   },
   "outputs": [],
   "source": [
    "import numpy as np\n",
    "import pandas as pd\n",
    "from random import shuffle"
   ]
  },
  {
   "cell_type": "code",
   "execution_count": 88,
   "metadata": {
    "collapsed": false
   },
   "outputs": [],
   "source": [
    "prob=pd.read_csv('letters_prob.csv', index_col='letter') # preprocessed file\n",
    "decipher_form=pd.read_csv('cipher.csv', index_col='Unnamed: 0') # preprocessed file\n",
    "transition=pd.read_csv('letter_transition_matrix.csv', index_col='letter')\n",
    "alphabet=list('abcdefghijklmnopqrstuvwxyz .')\n",
    "trans_array=np.array(transition)\n",
    "alp_num=dict(zip(alphabet, list(range(len(alphabet)))))"
   ]
  },
  {
   "cell_type": "code",
   "execution_count": 3,
   "metadata": {
    "collapsed": false
   },
   "outputs": [],
   "source": [
    "# prepare text\n",
    "text=open('ciphertext.txt', 'r').read()\n",
    "text=text.replace('\\n', ' ')\n",
    "text=text.replace('  ', ' ')\n",
    "text=list(text)"
   ]
  },
  {
   "cell_type": "code",
   "execution_count": 23,
   "metadata": {
    "collapsed": false
   },
   "outputs": [],
   "source": [
    "def decipher(y,f):\n",
    "    dictionary=dict(zip(f, alphabet))\n",
    "    x=[]\n",
    "    for let in y:\n",
    "        x.append(dictionary[let])\n",
    "    \n",
    "    return x\n",
    "\n",
    "def tonum(y):\n",
    "    x=[]\n",
    "    for let in y:\n",
    "        x.append(alp_num[let])\n",
    "    \n",
    "    return x\n",
    "    \n",
    "\n",
    "def LogPyf(y,f):\n",
    "    y=decipher(y,f)\n",
    " \n",
    "    Ps=np.zeros(len(y))\n",
    "    \n",
    "    Ps[0]=np.log(prob.loc[y[0]]['Unnamed: 0'])\n",
    "    y=tonum(y)\n",
    "    Ps[1:]=np.log(trans_array[y[1:],y[:len(y)-1]])\n",
    "\n",
    "    P=Ps.sum()\n",
    "    return P"
   ]
  },
  {
   "cell_type": "code",
   "execution_count": 25,
   "metadata": {
    "collapsed": false
   },
   "outputs": [
    {
     "data": {
      "text/plain": [
       "-64363.198159222811"
      ]
     },
     "execution_count": 25,
     "metadata": {},
     "output_type": "execute_result"
    }
   ],
   "source": [
    "LogPyf(text, decipher_form.index)"
   ]
  },
  {
   "cell_type": "code",
   "execution_count": 138,
   "metadata": {
    "collapsed": false
   },
   "outputs": [
    {
     "name": "stderr",
     "output_type": "stream",
     "text": [
      "/home/daniel/anaconda3/envs/py35/lib/python3.5/site-packages/ipykernel_launcher.py:26: RuntimeWarning: divide by zero encountered in log\n"
     ]
    }
   ],
   "source": [
    "# Initialize f_n to avoid -infs\n",
    "while True:\n",
    "    alph=list(alphabet)\n",
    "    shuffle(alph)\n",
    "    f_n=np.array(alph)\n",
    "    if LogPyf(text,f_n)!= -np.inf:\n",
    "        break"
   ]
  },
  {
   "cell_type": "code",
   "execution_count": 139,
   "metadata": {
    "collapsed": false
   },
   "outputs": [
    {
     "name": "stderr",
     "output_type": "stream",
     "text": [
      "/home/daniel/anaconda3/envs/py35/lib/python3.5/site-packages/ipykernel_launcher.py:26: RuntimeWarning: divide by zero encountered in log\n"
     ]
    }
   ],
   "source": [
    "f=[]\n",
    "f.append(str(f_n))\n",
    "N=len(f_n)\n",
    "\n",
    "for i in range(5000):\n",
    "    re=np.random.choice(N, 2, replace=False)\n",
    "    f_new=np.array(f_n)\n",
    "    f_new[re]=f_new[np.flip(re,0)]\n",
    "    \n",
    "    if LogPyf(text, f_new)-LogPyf(text, f_n)>0:\n",
    "        f.append(str(f_new))\n",
    "        f_n=f_new\n",
    "    \n",
    "    "
   ]
  },
  {
   "cell_type": "code",
   "execution_count": 140,
   "metadata": {
    "collapsed": false
   },
   "outputs": [
    {
     "data": {
      "text/plain": [
       "\"['g' 's' 'c' 'p' 'b' 'e' 'd' 'i' 'o' 'w' 'k' 'n' 'z' 'r' '.' 'u' 'm' 'a'\\n ' ' 'x' 'h' 't' 'f' 'v' 'l' 'q' 'y' 'j']\""
      ]
     },
     "execution_count": 140,
     "metadata": {},
     "output_type": "execute_result"
    }
   ],
   "source": [
    "f[-1]"
   ]
  },
  {
   "cell_type": "code",
   "execution_count": 121,
   "metadata": {
    "collapsed": false
   },
   "outputs": [
    {
     "data": {
      "text/html": [
       "<div>\n",
       "<style>\n",
       "    .dataframe thead tr:only-child th {\n",
       "        text-align: right;\n",
       "    }\n",
       "\n",
       "    .dataframe thead th {\n",
       "        text-align: left;\n",
       "    }\n",
       "\n",
       "    .dataframe tbody tr th {\n",
       "        vertical-align: top;\n",
       "    }\n",
       "</style>\n",
       "<table border=\"1\" class=\"dataframe\">\n",
       "  <thead>\n",
       "    <tr style=\"text-align: right;\">\n",
       "      <th></th>\n",
       "      <th>letter</th>\n",
       "    </tr>\n",
       "  </thead>\n",
       "  <tbody>\n",
       "    <tr>\n",
       "      <th>g</th>\n",
       "      <td>a</td>\n",
       "    </tr>\n",
       "    <tr>\n",
       "      <th>s</th>\n",
       "      <td>b</td>\n",
       "    </tr>\n",
       "    <tr>\n",
       "      <th>c</th>\n",
       "      <td>c</td>\n",
       "    </tr>\n",
       "    <tr>\n",
       "      <th>p</th>\n",
       "      <td>d</td>\n",
       "    </tr>\n",
       "    <tr>\n",
       "      <th>b</th>\n",
       "      <td>e</td>\n",
       "    </tr>\n",
       "    <tr>\n",
       "      <th>e</th>\n",
       "      <td>f</td>\n",
       "    </tr>\n",
       "    <tr>\n",
       "      <th>d</th>\n",
       "      <td>g</td>\n",
       "    </tr>\n",
       "    <tr>\n",
       "      <th>i</th>\n",
       "      <td>h</td>\n",
       "    </tr>\n",
       "    <tr>\n",
       "      <th>o</th>\n",
       "      <td>i</td>\n",
       "    </tr>\n",
       "    <tr>\n",
       "      <th>w</th>\n",
       "      <td>j</td>\n",
       "    </tr>\n",
       "    <tr>\n",
       "      <th>k</th>\n",
       "      <td>k</td>\n",
       "    </tr>\n",
       "    <tr>\n",
       "      <th>n</th>\n",
       "      <td>l</td>\n",
       "    </tr>\n",
       "    <tr>\n",
       "      <th>z</th>\n",
       "      <td>m</td>\n",
       "    </tr>\n",
       "    <tr>\n",
       "      <th>r</th>\n",
       "      <td>n</td>\n",
       "    </tr>\n",
       "    <tr>\n",
       "      <th>.</th>\n",
       "      <td>o</td>\n",
       "    </tr>\n",
       "    <tr>\n",
       "      <th>u</th>\n",
       "      <td>p</td>\n",
       "    </tr>\n",
       "    <tr>\n",
       "      <th>m</th>\n",
       "      <td>q</td>\n",
       "    </tr>\n",
       "    <tr>\n",
       "      <th>a</th>\n",
       "      <td>r</td>\n",
       "    </tr>\n",
       "    <tr>\n",
       "      <th></th>\n",
       "      <td>s</td>\n",
       "    </tr>\n",
       "    <tr>\n",
       "      <th>x</th>\n",
       "      <td>t</td>\n",
       "    </tr>\n",
       "    <tr>\n",
       "      <th>h</th>\n",
       "      <td>u</td>\n",
       "    </tr>\n",
       "    <tr>\n",
       "      <th>t</th>\n",
       "      <td>v</td>\n",
       "    </tr>\n",
       "    <tr>\n",
       "      <th>f</th>\n",
       "      <td>w</td>\n",
       "    </tr>\n",
       "    <tr>\n",
       "      <th>v</th>\n",
       "      <td>x</td>\n",
       "    </tr>\n",
       "    <tr>\n",
       "      <th>l</th>\n",
       "      <td>y</td>\n",
       "    </tr>\n",
       "    <tr>\n",
       "      <th>q</th>\n",
       "      <td>z</td>\n",
       "    </tr>\n",
       "    <tr>\n",
       "      <th>y</th>\n",
       "      <td></td>\n",
       "    </tr>\n",
       "    <tr>\n",
       "      <th>j</th>\n",
       "      <td>.</td>\n",
       "    </tr>\n",
       "  </tbody>\n",
       "</table>\n",
       "</div>"
      ],
      "text/plain": [
       "  letter\n",
       "g      a\n",
       "s      b\n",
       "c      c\n",
       "p      d\n",
       "b      e\n",
       "e      f\n",
       "d      g\n",
       "i      h\n",
       "o      i\n",
       "w      j\n",
       "k      k\n",
       "n      l\n",
       "z      m\n",
       "r      n\n",
       ".      o\n",
       "u      p\n",
       "m      q\n",
       "a      r\n",
       "       s\n",
       "x      t\n",
       "h      u\n",
       "t      v\n",
       "f      w\n",
       "v      x\n",
       "l      y\n",
       "q      z\n",
       "y       \n",
       "j      ."
      ]
     },
     "execution_count": 121,
     "metadata": {},
     "output_type": "execute_result"
    }
   ],
   "source": [
    "decipher_form.index"
   ]
  }
 ],
 "metadata": {
  "kernelspec": {
   "display_name": "Python 3",
   "language": "python",
   "name": "python3"
  },
  "language_info": {
   "codemirror_mode": {
    "name": "ipython",
    "version": 3
   },
   "file_extension": ".py",
   "mimetype": "text/x-python",
   "name": "python",
   "nbconvert_exporter": "python",
   "pygments_lexer": "ipython3",
   "version": "3.5.3"
  }
 },
 "nbformat": 4,
 "nbformat_minor": 2
}
